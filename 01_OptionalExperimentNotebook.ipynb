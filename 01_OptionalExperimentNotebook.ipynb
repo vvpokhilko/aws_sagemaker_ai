{
 "cells": [
  {
   "cell_type": "code",
   "execution_count": 2,
   "id": "f3b191f5-7958-47a2-b0bc-0aa7f88e9fc9",
   "metadata": {},
   "outputs": [
    {
     "name": "stderr",
     "output_type": "stream",
     "text": [
      "2025-02-01 15:29:19.534910: I tensorflow/core/platform/cpu_feature_guard.cc:210] This TensorFlow binary is optimized to use available CPU instructions in performance-critical operations.\n",
      "To enable the following instructions: SSE4.1 SSE4.2 AVX AVX2 AVX512F FMA, in other operations, rebuild TensorFlow with the appropriate compiler flags.\n"
     ]
    }
   ],
   "source": [
    "import torch\n",
    "import numpy as np\n",
    "\n",
    "from torch.utils.data import DataLoader, Dataset\n",
    "from transformers import DistilBertTokenizer, DistilBertModel\n",
    "from tqdm import tqdm\n",
    "import argparse\n",
    "import os\n",
    "import pandas as pd"
   ]
  },
  {
   "cell_type": "code",
   "execution_count": 3,
   "id": "02efd26b-92c4-4c15-bd6e-972a87a6273f",
   "metadata": {},
   "outputs": [
    {
     "name": "stdout",
     "output_type": "stream",
     "text": [
      "                                                    TITLE  CATEGORY\n",
      "0       Fed official says weak data caused by weather,...  Business\n",
      "1       Fed's Charles Plosser sees high bar for change...  Business\n",
      "2       US open: Stocks fall after Fed official hints ...  Business\n",
      "3       Fed risks falling 'behind the curve', Charles ...  Business\n",
      "4       Fed's Plosser: Nasty Weather Has Curbed Job Gr...  Business\n",
      "...                                                   ...       ...\n",
      "422414  Surgeons to remove 4-year-old's rib to rebuild...    Health\n",
      "422415  Boy to have surgery on esophagus after battery...    Health\n",
      "422416  Child who swallowed battery to have reconstruc...    Health\n",
      "422417  Phoenix boy undergoes surgery to repair throat...    Health\n",
      "422418  Phoenix boy undergoes surgery to repair throat...    Health\n",
      "\n",
      "[422419 rows x 2 columns]\n"
     ]
    }
   ],
   "source": [
    "s3_path = 's3://hugging-face-multiclass-textclassification-bucket369/training_data/newsCorpora.csv'\n",
    "df = pd.read_csv(s3_path, sep='\\t', names=[\"ID\", \"TITLE\", \"URL\", \"PUBLISHER\", \"CATEGORY\", \"STORY\", \"HOSTNAME\", \"TIMESTAMP\"])\n",
    "df = df[['TITLE','CATEGORY']]\n",
    "\n",
    "my_dict = {\n",
    "    'e':'Entertainment',\n",
    "    'b':'Business',\n",
    "    't':'Science',\n",
    "    'm':'Health'\n",
    "}\n",
    "\n",
    "def update_cat(x):\n",
    "    x = my_dict[x]\n",
    "    return x\n",
    "\n",
    "df['CATEGORY'] = df['CATEGORY'].apply(lambda x: update_cat(x))\n",
    "print(df) # This will show up in our cloud watch logs"
   ]
  },
  {
   "cell_type": "code",
   "execution_count": 6,
   "id": "985be128-fc7c-4229-ad14-a2988915ef29",
   "metadata": {},
   "outputs": [
    {
     "data": {
      "text/html": [
       "<div>\n",
       "<style scoped>\n",
       "    .dataframe tbody tr th:only-of-type {\n",
       "        vertical-align: middle;\n",
       "    }\n",
       "\n",
       "    .dataframe tbody tr th {\n",
       "        vertical-align: top;\n",
       "    }\n",
       "\n",
       "    .dataframe thead th {\n",
       "        text-align: right;\n",
       "    }\n",
       "</style>\n",
       "<table border=\"1\" class=\"dataframe\">\n",
       "  <thead>\n",
       "    <tr style=\"text-align: right;\">\n",
       "      <th></th>\n",
       "      <th>TITLE</th>\n",
       "      <th>CATEGORY</th>\n",
       "    </tr>\n",
       "  </thead>\n",
       "  <tbody>\n",
       "    <tr>\n",
       "      <th>0</th>\n",
       "      <td>Facebook treats you like a lab rat</td>\n",
       "      <td>Science</td>\n",
       "    </tr>\n",
       "    <tr>\n",
       "      <th>1</th>\n",
       "      <td>News in Breif</td>\n",
       "      <td>Business</td>\n",
       "    </tr>\n",
       "    <tr>\n",
       "      <th>2</th>\n",
       "      <td>Regulators shine light on shark-infested \"dark...</td>\n",
       "      <td>Business</td>\n",
       "    </tr>\n",
       "    <tr>\n",
       "      <th>3</th>\n",
       "      <td>Blood Moon 2014 Dates; Plus Why Does The Moon ...</td>\n",
       "      <td>Science</td>\n",
       "    </tr>\n",
       "    <tr>\n",
       "      <th>4</th>\n",
       "      <td>Why “OK Google” Should be Available on Google ...</td>\n",
       "      <td>Science</td>\n",
       "    </tr>\n",
       "    <tr>\n",
       "      <th>...</th>\n",
       "      <td>...</td>\n",
       "      <td>...</td>\n",
       "    </tr>\n",
       "    <tr>\n",
       "      <th>21116</th>\n",
       "      <td>Medicare reveals physician payment data</td>\n",
       "      <td>Health</td>\n",
       "    </tr>\n",
       "    <tr>\n",
       "      <th>21117</th>\n",
       "      <td>Capital One profit rises 10 pct due to lower p...</td>\n",
       "      <td>Business</td>\n",
       "    </tr>\n",
       "    <tr>\n",
       "      <th>21118</th>\n",
       "      <td>Mortgage Interest Rates Move Up at Wells Fargo...</td>\n",
       "      <td>Business</td>\n",
       "    </tr>\n",
       "    <tr>\n",
       "      <th>21119</th>\n",
       "      <td>Texas cheerleader and critics face off over co...</td>\n",
       "      <td>Entertainment</td>\n",
       "    </tr>\n",
       "    <tr>\n",
       "      <th>21120</th>\n",
       "      <td>Airbus looking to patent bicycle-like seating</td>\n",
       "      <td>Business</td>\n",
       "    </tr>\n",
       "  </tbody>\n",
       "</table>\n",
       "<p>21121 rows × 2 columns</p>\n",
       "</div>"
      ],
      "text/plain": [
       "                                                   TITLE       CATEGORY\n",
       "0                     Facebook treats you like a lab rat        Science\n",
       "1                                          News in Breif       Business\n",
       "2      Regulators shine light on shark-infested \"dark...       Business\n",
       "3      Blood Moon 2014 Dates; Plus Why Does The Moon ...        Science\n",
       "4      Why “OK Google” Should be Available on Google ...        Science\n",
       "...                                                  ...            ...\n",
       "21116            Medicare reveals physician payment data         Health\n",
       "21117  Capital One profit rises 10 pct due to lower p...       Business\n",
       "21118  Mortgage Interest Rates Move Up at Wells Fargo...       Business\n",
       "21119  Texas cheerleader and critics face off over co...  Entertainment\n",
       "21120      Airbus looking to patent bicycle-like seating       Business\n",
       "\n",
       "[21121 rows x 2 columns]"
      ]
     },
     "execution_count": 6,
     "metadata": {},
     "output_type": "execute_result"
    }
   ],
   "source": [
    "# This is just a tip\n",
    "df = df.sample(frac=0.05, random_state=369)\n",
    "df = df.reset_index(drop=True)\n",
    "# This is where the tip ends\n",
    "df"
   ]
  },
  {
   "cell_type": "code",
   "execution_count": 9,
   "id": "2c7bb39c-307c-46e2-b73a-d27c1aaf0d53",
   "metadata": {},
   "outputs": [],
   "source": [
    "encode_dict = {}\n",
    "\n",
    "def encode_cat(x):\n",
    "    if x not in encode_dict.keys():\n",
    "        encode_dict[x] = len(encode_dict)\n",
    "    return encode_dict[x] \n"
   ]
  },
  {
   "cell_type": "code",
   "execution_count": 10,
   "id": "ca36f023-5856-459d-9891-fd1d0c8ab79a",
   "metadata": {},
   "outputs": [
    {
     "data": {
      "text/html": [
       "<div>\n",
       "<style scoped>\n",
       "    .dataframe tbody tr th:only-of-type {\n",
       "        vertical-align: middle;\n",
       "    }\n",
       "\n",
       "    .dataframe tbody tr th {\n",
       "        vertical-align: top;\n",
       "    }\n",
       "\n",
       "    .dataframe thead th {\n",
       "        text-align: right;\n",
       "    }\n",
       "</style>\n",
       "<table border=\"1\" class=\"dataframe\">\n",
       "  <thead>\n",
       "    <tr style=\"text-align: right;\">\n",
       "      <th></th>\n",
       "      <th>TITLE</th>\n",
       "      <th>CATEGORY</th>\n",
       "      <th>ENCODE_CAT</th>\n",
       "    </tr>\n",
       "  </thead>\n",
       "  <tbody>\n",
       "    <tr>\n",
       "      <th>0</th>\n",
       "      <td>Facebook treats you like a lab rat</td>\n",
       "      <td>Science</td>\n",
       "      <td>0</td>\n",
       "    </tr>\n",
       "    <tr>\n",
       "      <th>1</th>\n",
       "      <td>News in Breif</td>\n",
       "      <td>Business</td>\n",
       "      <td>1</td>\n",
       "    </tr>\n",
       "    <tr>\n",
       "      <th>2</th>\n",
       "      <td>Regulators shine light on shark-infested \"dark...</td>\n",
       "      <td>Business</td>\n",
       "      <td>1</td>\n",
       "    </tr>\n",
       "    <tr>\n",
       "      <th>3</th>\n",
       "      <td>Blood Moon 2014 Dates; Plus Why Does The Moon ...</td>\n",
       "      <td>Science</td>\n",
       "      <td>0</td>\n",
       "    </tr>\n",
       "    <tr>\n",
       "      <th>4</th>\n",
       "      <td>Why “OK Google” Should be Available on Google ...</td>\n",
       "      <td>Science</td>\n",
       "      <td>0</td>\n",
       "    </tr>\n",
       "    <tr>\n",
       "      <th>...</th>\n",
       "      <td>...</td>\n",
       "      <td>...</td>\n",
       "      <td>...</td>\n",
       "    </tr>\n",
       "    <tr>\n",
       "      <th>21116</th>\n",
       "      <td>Medicare reveals physician payment data</td>\n",
       "      <td>Health</td>\n",
       "      <td>3</td>\n",
       "    </tr>\n",
       "    <tr>\n",
       "      <th>21117</th>\n",
       "      <td>Capital One profit rises 10 pct due to lower p...</td>\n",
       "      <td>Business</td>\n",
       "      <td>1</td>\n",
       "    </tr>\n",
       "    <tr>\n",
       "      <th>21118</th>\n",
       "      <td>Mortgage Interest Rates Move Up at Wells Fargo...</td>\n",
       "      <td>Business</td>\n",
       "      <td>1</td>\n",
       "    </tr>\n",
       "    <tr>\n",
       "      <th>21119</th>\n",
       "      <td>Texas cheerleader and critics face off over co...</td>\n",
       "      <td>Entertainment</td>\n",
       "      <td>2</td>\n",
       "    </tr>\n",
       "    <tr>\n",
       "      <th>21120</th>\n",
       "      <td>Airbus looking to patent bicycle-like seating</td>\n",
       "      <td>Business</td>\n",
       "      <td>1</td>\n",
       "    </tr>\n",
       "  </tbody>\n",
       "</table>\n",
       "<p>21121 rows × 3 columns</p>\n",
       "</div>"
      ],
      "text/plain": [
       "                                                   TITLE       CATEGORY  \\\n",
       "0                     Facebook treats you like a lab rat        Science   \n",
       "1                                          News in Breif       Business   \n",
       "2      Regulators shine light on shark-infested \"dark...       Business   \n",
       "3      Blood Moon 2014 Dates; Plus Why Does The Moon ...        Science   \n",
       "4      Why “OK Google” Should be Available on Google ...        Science   \n",
       "...                                                  ...            ...   \n",
       "21116            Medicare reveals physician payment data         Health   \n",
       "21117  Capital One profit rises 10 pct due to lower p...       Business   \n",
       "21118  Mortgage Interest Rates Move Up at Wells Fargo...       Business   \n",
       "21119  Texas cheerleader and critics face off over co...  Entertainment   \n",
       "21120      Airbus looking to patent bicycle-like seating       Business   \n",
       "\n",
       "       ENCODE_CAT  \n",
       "0               0  \n",
       "1               1  \n",
       "2               1  \n",
       "3               0  \n",
       "4               0  \n",
       "...           ...  \n",
       "21116           3  \n",
       "21117           1  \n",
       "21118           1  \n",
       "21119           2  \n",
       "21120           1  \n",
       "\n",
       "[21121 rows x 3 columns]"
      ]
     },
     "execution_count": 10,
     "metadata": {},
     "output_type": "execute_result"
    }
   ],
   "source": [
    "df['ENCODE_CAT'] = df['CATEGORY'].apply(lambda x: encode_cat(x))\n",
    "df"
   ]
  },
  {
   "cell_type": "code",
   "execution_count": 11,
   "id": "b5798800-17a9-4da5-9418-f5262f59395e",
   "metadata": {},
   "outputs": [
    {
     "data": {
      "text/plain": [
       "{'Science': 0, 'Business': 1, 'Entertainment': 2, 'Health': 3}"
      ]
     },
     "execution_count": 11,
     "metadata": {},
     "output_type": "execute_result"
    }
   ],
   "source": [
    "encode_dict"
   ]
  },
  {
   "cell_type": "code",
   "execution_count": 12,
   "id": "82540c09-8735-4511-aa94-c8591767a63b",
   "metadata": {},
   "outputs": [
    {
     "name": "stderr",
     "output_type": "stream",
     "text": [
      "Be aware, overflowing tokens are not returned for the setting you have chosen, i.e. sequence pairs with the 'longest_first' truncation strategy. So the returned list will always be empty even if some tokens have been removed.\n"
     ]
    },
    {
     "name": "stdout",
     "output_type": "stream",
     "text": [
      "Inputs IDs: [101, 1045, 2293, 4715, 1998, 3816, 7761, 2840, 102, 1045, 2293, 10529, 999, 2292, 1005, 1055, 2031, 2070, 4569, 102]\n",
      "Attention Mask [1, 1, 1, 1, 1, 1, 1, 1, 1, 1, 1, 1, 1, 1, 1, 1, 1, 1, 1, 1]\n",
      "Token tyoe IDs: [0, 0, 0, 0, 0, 0, 0, 0, 0, 1, 1, 1, 1, 1, 1, 1, 1, 1, 1, 1]\n"
     ]
    }
   ],
   "source": [
    "from transformers import DistilBertTokenizer\n",
    "\n",
    "tokenizer = DistilBertTokenizer.from_pretrained('distilbert-base-uncased')\n",
    "\n",
    "inputs = tokenizer.encode_plus(\n",
    "    \"I love soccer and mixed martial arts\",\n",
    "    \"I love roses! Let's have some fun and watch a few movies\",\n",
    "    add_special_tokens=True,\n",
    "    max_length=20,\n",
    "    padding='max_length',\n",
    "    truncation=True,\n",
    "    return_token_type_ids=True,\n",
    "    return_attention_mask=True\n",
    ")\n",
    "\n",
    "print(\"Inputs IDs:\", inputs['input_ids'])\n",
    "print(\"Attention Mask\", inputs['attention_mask'])\n",
    "print(\"Token tyoe IDs:\", inputs['token_type_ids'])\n"
   ]
  },
  {
   "cell_type": "code",
   "execution_count": null,
   "id": "6598a546-d14d-4dea-a743-2286c7d5da3a",
   "metadata": {},
   "outputs": [],
   "source": []
  }
 ],
 "metadata": {
  "kernelspec": {
   "display_name": "Python 3 (ipykernel)",
   "language": "python",
   "name": "python3"
  },
  "language_info": {
   "codemirror_mode": {
    "name": "ipython",
    "version": 3
   },
   "file_extension": ".py",
   "mimetype": "text/x-python",
   "name": "python",
   "nbconvert_exporter": "python",
   "pygments_lexer": "ipython3",
   "version": "3.11.11"
  }
 },
 "nbformat": 4,
 "nbformat_minor": 5
}
