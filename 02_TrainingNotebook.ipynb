{
 "cells": [
  {
   "cell_type": "code",
   "execution_count": 1,
   "id": "8196df55-32d5-48c6-8dbb-c4737d051282",
   "metadata": {},
   "outputs": [],
   "source": [
    "# !pip install -qU s3fs --user"
   ]
  },
  {
   "cell_type": "code",
   "execution_count": 1,
   "id": "00f5a40a-7aa7-44fe-9685-1b6d93610c7e",
   "metadata": {},
   "outputs": [
    {
     "name": "stdout",
     "output_type": "stream",
     "text": [
      "sagemaker.config INFO - Not applying SDK defaults from location: /etc/xdg/sagemaker/config.yaml\n",
      "sagemaker.config INFO - Not applying SDK defaults from location: /home/sagemaker-user/.config/sagemaker/config.yaml\n"
     ]
    }
   ],
   "source": [
    "# Set up environment\n",
    "import torch\n",
    "import transformers\n",
    "import sagemaker\n",
    "import s3fs\n",
    "\n",
    "from sagemaker.huggingface import HuggingFace\n",
    "from sagemaker import get_execution_role\n",
    "\n",
    "role = get_execution_role()\n"
   ]
  },
  {
   "cell_type": "code",
   "execution_count": 2,
   "id": "b4f237d3-8760-4813-8542-3434e1f5b3e1",
   "metadata": {},
   "outputs": [
    {
     "data": {
      "text/plain": [
       "'arn:aws:iam::405894840029:role/service-role/AmazonSageMaker-ExecutionRole-20250129T090467'"
      ]
     },
     "execution_count": 2,
     "metadata": {},
     "output_type": "execute_result"
    }
   ],
   "source": [
    "role"
   ]
  },
  {
   "cell_type": "code",
   "execution_count": 3,
   "id": "aaf415a3-9b94-4968-be85-420ddffead0f",
   "metadata": {},
   "outputs": [],
   "source": [
    "sagemaker_session = sagemaker.Session()"
   ]
  },
  {
   "cell_type": "code",
   "execution_count": 4,
   "id": "7187ec6a-87bc-4f4d-a631-d2884110e748",
   "metadata": {},
   "outputs": [
    {
     "data": {
      "text/plain": [
       "'2.4.1.post100'"
      ]
     },
     "execution_count": 4,
     "metadata": {},
     "output_type": "execute_result"
    }
   ],
   "source": [
    "torch.__version__"
   ]
  },
  {
   "cell_type": "code",
   "execution_count": 5,
   "id": "00c0636c-7e37-4263-a456-1a04b3493f7c",
   "metadata": {},
   "outputs": [],
   "source": [
    "# Setting up boiling plate code\n",
    "\n",
    "huggingface_estimator = HuggingFace(\n",
    "    entry_point = 'script.py',  # this will have the info about the model architecture, training data, loss function, etc.\n",
    "    source_dir = './',\n",
    "    role = role,\n",
    "    instance_count = 1,\n",
    "    instance_type = 'ml.g5.2xlarge',\n",
    "    transformers_version= '4.6',\n",
    "    pytorch_version='1.8',\n",
    "    #pytorch_version='2.4', \n",
    "    output_path = \"s3://hugging-face-multiclass-textclassification-bucket369/output/\",\n",
    "    py_version = 'py36',\n",
    "    hyperparameters={'epochs':2,\n",
    "                    'train_batch_size':4,\n",
    "                    'valid_batch_size':2,\n",
    "                    'learning_rate':1e-05\n",
    "                    },\n",
    "    enable_sagemaker_metrics = True\n",
    ")\n"
   ]
  },
  {
   "cell_type": "code",
   "execution_count": null,
   "id": "9b617712-6e57-435d-ad72-e3d76495d581",
   "metadata": {},
   "outputs": [],
   "source": [
    "huggingface_estimator.fit()"
   ]
  },
  {
   "cell_type": "code",
   "execution_count": 7,
   "id": "dc838598-43d3-4cee-a7ad-28e3552f8d27",
   "metadata": {},
   "outputs": [],
   "source": [
    "# !pip install -q jupyterlab-lsp --upgrade\n",
    "# !pip install -q 'python-lsp-server[all]' --upgrade "
   ]
  },
  {
   "cell_type": "code",
   "execution_count": null,
   "id": "f91e2656-6baf-4a62-bce6-926920680450",
   "metadata": {},
   "outputs": [],
   "source": []
  }
 ],
 "metadata": {
  "kernelspec": {
   "display_name": "Python 3 (ipykernel)",
   "language": "python",
   "name": "python3"
  },
  "language_info": {
   "codemirror_mode": {
    "name": "ipython",
    "version": 3
   },
   "file_extension": ".py",
   "mimetype": "text/x-python",
   "name": "python",
   "nbconvert_exporter": "python",
   "pygments_lexer": "ipython3",
   "version": "3.11.11"
  }
 },
 "nbformat": 4,
 "nbformat_minor": 5
}
