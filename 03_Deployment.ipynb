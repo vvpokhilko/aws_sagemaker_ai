{
 "cells": [
  {
   "cell_type": "code",
   "execution_count": 1,
   "id": "74a4c554-b0b9-4ff8-af19-af36963687a0",
   "metadata": {},
   "outputs": [
    {
     "name": "stdout",
     "output_type": "stream",
     "text": [
      "sagemaker.config INFO - Not applying SDK defaults from location: /etc/xdg/sagemaker/config.yaml\n",
      "sagemaker.config INFO - Not applying SDK defaults from location: /home/sagemaker-user/.config/sagemaker/config.yaml\n"
     ]
    }
   ],
   "source": [
    "from sagemaker.huggingface import HuggingFaceModel\n",
    "from sagemaker import get_execution_role\n",
    "\n",
    "role = get_execution_role()\n",
    "\n",
    "model_s3_path = 's3://hugging-face-multiclass-textclassification-bucket369/output/model.tar.gz'\n",
    "\n",
    "huggingface_model = HuggingFaceModel(\n",
    "    model_data =model_s3_path,\n",
    "    role = role,\n",
    "    transformers_version = \"4.6\",\n",
    "    pytorch_version = \"1.7\",\n",
    "    py_version = \"py36\",\n",
    "    entry_point = \"inference.py\",\n",
    "    # name = \"load-testing-model\" # Model name\n",
    "    name = \"model-for-deployment\"\n",
    ")\n"
   ]
  },
  {
   "cell_type": "code",
   "execution_count": 2,
   "id": "9c95fbfb-480b-4614-8075-06eae7b9ece9",
   "metadata": {},
   "outputs": [
    {
     "name": "stdout",
     "output_type": "stream",
     "text": [
      "-----!"
     ]
    }
   ],
   "source": [
    "predictor = huggingface_model.deploy(\n",
    "    initial_instance_count = 1,\n",
    "    instance_type = \"ml.m5.xlarge\",\n",
    "    endpoint_name = \"multiclass-text-classification-endpoint-deployment\" # every time you create a new endpoint, you have to rename it\n",
    ") # You will know the deployment is done when you see output similar to this: -----!"
   ]
  },
  {
   "cell_type": "code",
   "execution_count": 20,
   "id": "8d3ba119-ff8e-435b-ae5f-7b2c35f07ab9",
   "metadata": {},
   "outputs": [],
   "source": [
    "# data = {\"inputs\": \"New major blackhole discovered in space\"}\n",
    "# data = {\"inputs\": \"Season Finale of the Simpson is out\"}\n",
    "# data = {\"inputs\": \"Canser vaccine approved with 100% survival\"}\n",
    "data = {\"inputs\": \"The stock market hit an all time low\"}"
   ]
  },
  {
   "cell_type": "code",
   "execution_count": 21,
   "id": "4c9a11b1-5701-4459-b6fa-bda744265ef8",
   "metadata": {},
   "outputs": [],
   "source": [
    "prediction = predictor.predict(data)"
   ]
  },
  {
   "cell_type": "code",
   "execution_count": 22,
   "id": "db48946d-faf8-4c0d-8617-317ce2553dd2",
   "metadata": {},
   "outputs": [
    {
     "data": {
      "text/plain": [
       "{'predicted_label': 'Business',\n",
       " 'probabilities': [[0.9958590865135193,\n",
       "   0.002330740448087454,\n",
       "   0.001491970382630825,\n",
       "   0.0003181209904141724]]}"
      ]
     },
     "execution_count": 22,
     "metadata": {},
     "output_type": "execute_result"
    }
   ],
   "source": [
    "prediction"
   ]
  },
  {
   "cell_type": "code",
   "execution_count": 13,
   "id": "21e91c50-6ee4-4c53-b315-4b4d75d9e863",
   "metadata": {},
   "outputs": [],
   "source": [
    "# class_names = [\"Business\", \"Science\", \"Entertainment\", \"Health\"]"
   ]
  }
 ],
 "metadata": {
  "kernelspec": {
   "display_name": "Python 3 (ipykernel)",
   "language": "python",
   "name": "python3"
  },
  "language_info": {
   "codemirror_mode": {
    "name": "ipython",
    "version": 3
   },
   "file_extension": ".py",
   "mimetype": "text/x-python",
   "name": "python",
   "nbconvert_exporter": "python",
   "pygments_lexer": "ipython3",
   "version": "3.11.11"
  }
 },
 "nbformat": 4,
 "nbformat_minor": 5
}
